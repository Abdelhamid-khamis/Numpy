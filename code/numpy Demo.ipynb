{
 "cells": [
  {
   "cell_type": "markdown",
   "metadata": {},
   "source": [
    "#### Python library(Module)\n",
    "**module** is a file consisting of Python code with extension `.py`,\n",
    "we can use any Python source file as a module by executing an import statement.\n",
    "\n",
    "**library** contains built-in functions and is described a collection of core modules.\n",
    "\n",
    "\n",
    "<img src='1_RIrPOCyMFwFC-XULbja3rw.png'>\n",
    "\n",
    "\n",
    "### Import statements\n",
    "\n",
    "- import `file_name`  .\n",
    "\n",
    "- import `file_name` as `fn`\n",
    "\n",
    "- from `file_name` import `item`\n",
    "\n",
    "- from `file_name` import *\n"
   ]
  },
  {
   "cell_type": "markdown",
   "metadata": {},
   "source": [
    "###### Why use numpy ..??\n",
    "\n",
    "- numpy built in library in C language.\n",
    "- speed mach faster than python list .\n",
    "- there are built in mathamtical  and statitical functions which are computed very fast with very little code"
   ]
  },
  {
   "cell_type": "code",
   "execution_count": null,
   "metadata": {},
   "outputs": [],
   "source": [
    "a=[1,2.3.....]"
   ]
  },
  {
   "cell_type": "code",
   "execution_count": null,
   "metadata": {},
   "outputs": [],
   "source": [
    "# Why use NumPy?\n",
    "import time\n",
    "import numpy as np\n",
    "random_numbers = np.random.random(100000000)\n",
    "\n",
    "# Case 1\n",
    "start = time.time()\n",
    "sum(random_numbers) / len(random_numbers)\n",
    "print(time.time() - start)\n",
    "\n",
    "# Case 2\n",
    "start = time.time()\n",
    "np.mean(random_numbers)\n",
    "print(time.time() - start)"
   ]
  },
  {
   "cell_type": "markdown",
   "metadata": {},
   "source": [
    "#### ARRAYS :-\n",
    "\n",
    "##### Python Lists vs. Numpy Arrays ???\n",
    "\n",
    "<img src='whyArray.png'>\n",
    "\n",
    "Numpy data structures perform better in:\n",
    "-  Numpy data structures take up less space\n",
    "-  Performance - they have a need for speed and are faster than lists\n",
    "-  Numpy array perform mathematical operations arithmetic functions on an array which we cannot do on a list\n",
    "\n",
    "What happened we use list instead of Numpy array....???\n",
    "\n",
    "<img src='fiking.gif'>\n",
    "\n",
    "A list is a collection of homogeneous items that are contiguously arranged,Mutable but static (the size cannot be changed or in other words new elements cannot be added to it)\n",
    "we know how to write the LIST before (remember a= [5 , 4 , 9 ]) and TUPLE (remember a = (5 , 4 , 9 , 8)).\n",
    "\n",
    "<img src='0_y04Nh3L0aSwyGaby.png'>"
   ]
  },
  {
   "cell_type": "markdown",
   "metadata": {},
   "source": [
    "#### 1. Creation "
   ]
  },
  {
   "cell_type": "code",
   "execution_count": null,
   "metadata": {},
   "outputs": [],
   "source": [
    "import numpy as np\n",
    "# we can write arrays by using lists\n",
    "a =np.array([1 , 2 , 3 , 4 , 5],dtype=float)\n",
    "a"
   ]
  },
  {
   "cell_type": "code",
   "execution_count": null,
   "metadata": {},
   "outputs": [],
   "source": [
    "#also we can write arrays by using tuple\n",
    "b =np.array ((2 , 4 , 5 , 6))\n",
    "b"
   ]
  },
  {
   "cell_type": "code",
   "execution_count": null,
   "metadata": {},
   "outputs": [],
   "source": [
    "#two dimensional array (2-D array) {Matrix}\n",
    "two_D_array=np.array ([ [1 , 2 , 3] , [4 , 5 , 6] , [7 , 8 , 9] ])\n",
    "two_D_array"
   ]
  },
  {
   "cell_type": "code",
   "execution_count": null,
   "metadata": {},
   "outputs": [],
   "source": [
    "#three dimensional array (3-D array){tensor}\n",
    "tensor=np.array ([ [ [1 , 2 , 3] , [4 , 5 , 6] ] , [ [8 , 9 , 10] , [11 , 12 , 13] ] ])\n",
    "tensor #shape:(2, 2, 3)"
   ]
  },
  {
   "cell_type": "markdown",
   "metadata": {},
   "source": [
    "###### Note:\n",
    "Numpy Array is static ,we can not add element in end of array so we create new arrayby copy of array values when add / delete value.\n",
    "\n",
    "##### 1. Add value \n",
    "\n",
    "- `append(array1, array2/ value, axis)` add value in end of array .\n",
    "\n",
    "- `insert(array,position, value, axis)` add value in cetrain position.\n",
    "\n",
    "##### 2. Delete value \n",
    "\n",
    "- `delete(array, object(the index (row / column number)), axis)` to delete any row and column from array\n"
   ]
  },
  {
   "cell_type": "code",
   "execution_count": null,
   "metadata": {},
   "outputs": [],
   "source": [
    "import numpy as np"
   ]
  },
  {
   "cell_type": "code",
   "execution_count": null,
   "metadata": {},
   "outputs": [],
   "source": [
    "a = np.array([[1, 1], [2, 2], [3, 3]])\n",
    "a"
   ]
  },
  {
   "cell_type": "code",
   "execution_count": null,
   "metadata": {},
   "outputs": [],
   "source": [
    "np.append(a,6)"
   ]
  },
  {
   "cell_type": "code",
   "execution_count": null,
   "metadata": {},
   "outputs": [],
   "source": [
    "b=np.append(a,[[8],[5],[7]],axis=1)\n",
    "b"
   ]
  },
  {
   "cell_type": "code",
   "execution_count": null,
   "metadata": {},
   "outputs": [],
   "source": [
    "np.insert(b,1,22,axis=1)"
   ]
  },
  {
   "cell_type": "code",
   "execution_count": null,
   "metadata": {},
   "outputs": [],
   "source": [
    "np.insert(b,[1],[[0],[4],[2]],axis=1)"
   ]
  },
  {
   "cell_type": "code",
   "execution_count": null,
   "metadata": {},
   "outputs": [],
   "source": [
    "np.insert(b, 1, [0,4, 2], axis=1)"
   ]
  },
  {
   "cell_type": "code",
   "execution_count": null,
   "metadata": {},
   "outputs": [],
   "source": [
    "b"
   ]
  },
  {
   "cell_type": "code",
   "execution_count": null,
   "metadata": {},
   "outputs": [],
   "source": [
    "np.delete(b,1,0)"
   ]
  },
  {
   "cell_type": "code",
   "execution_count": null,
   "metadata": {},
   "outputs": [],
   "source": [
    "#Use a list\n",
    "np.delete(b,[0,1],1)"
   ]
  },
  {
   "cell_type": "markdown",
   "metadata": {},
   "source": [
    "#### Create NumPy Arrays using built-in Functions"
   ]
  },
  {
   "cell_type": "markdown",
   "metadata": {},
   "source": [
    "#### arange()\n",
    " is one of the array creation routines based on numerical ranges.\n",
    " \n",
    "<img src='fig-1.png'>"
   ]
  },
  {
   "cell_type": "code",
   "execution_count": null,
   "metadata": {},
   "outputs": [],
   "source": [
    "np.arange(start=1, stop=10.1, step=3)"
   ]
  },
  {
   "cell_type": "code",
   "execution_count": null,
   "metadata": {},
   "outputs": [],
   "source": [
    "np.arange(0,5,1) "
   ]
  },
  {
   "cell_type": "markdown",
   "metadata": {},
   "source": [
    "###### linspace()\n",
    "returns evenly spaced numbers over a specified interval.\n",
    "`numpy.linspace(start, stop, num = 50(default))`\n"
   ]
  },
  {
   "cell_type": "code",
   "execution_count": null,
   "metadata": {},
   "outputs": [],
   "source": [
    "np.linspace(0, 2,10)"
   ]
  },
  {
   "cell_type": "code",
   "execution_count": null,
   "metadata": {},
   "outputs": [],
   "source": [
    "import matplotlib.pyplot as plt\n",
    "x =np.linspace(0, 2,10) \n",
    "y =np.zeros(10) # Array of zeros with the given shape\n",
    "  \n",
    "plt.plot(x, y, 'o') # draw graph\n",
    "plt.xlim(-0.1, 2.1) # set the x limits of the current axes."
   ]
  },
  {
   "cell_type": "code",
   "execution_count": null,
   "metadata": {},
   "outputs": [],
   "source": [
    "# transform 1D-array into 2D-array\n",
    "np.arange(1,10,1).reshape(3,3)"
   ]
  },
  {
   "cell_type": "markdown",
   "metadata": {},
   "source": [
    "###### Q: create 2D-array that contain even numbers between 0-18...??"
   ]
  },
  {
   "cell_type": "markdown",
   "metadata": {},
   "source": [
    "#### Create Random NumPy array\n",
    "\n",
    "###### 1.  `rand()` \n",
    "function can be used to generate array of random floating point values. taking the size of the array(1D,2D,3D...)\n",
    "###### 2.  ` randint()` \n",
    "function can be used to generate array of random integers values. taking the lower - the upper end of the range and the size of the array.\n",
    "###### 3.  `randn()` \n",
    "function can be used to generate array of The Gaussian values are drawn from a standard Gaussian distribution; this is a distribution that has a mean of 0.0 and a standard deviation of 1.0, taking the size of the array."
   ]
  },
  {
   "cell_type": "code",
   "execution_count": null,
   "metadata": {},
   "outputs": [],
   "source": [
    "np.random.randint(0,3,(3,3,3))"
   ]
  },
  {
   "cell_type": "code",
   "execution_count": null,
   "metadata": {},
   "outputs": [],
   "source": [
    "10+np.random.rand(3,3,3)"
   ]
  },
  {
   "cell_type": "code",
   "execution_count": null,
   "metadata": {},
   "outputs": [],
   "source": [
    "np.random.randn(3,3,3)"
   ]
  },
  {
   "cell_type": "markdown",
   "metadata": {},
   "source": [
    "### 2. Access & slicing\n",
    "- vector ( 1-D array)"
   ]
  },
  {
   "cell_type": "code",
   "execution_count": null,
   "metadata": {},
   "outputs": [],
   "source": [
    "vector_row = np.array([1,2,3])\n",
    "vector_row"
   ]
  },
  {
   "cell_type": "code",
   "execution_count": null,
   "metadata": {},
   "outputs": [],
   "source": [
    "vector_row[:]    # it will give you the first element in 1D-array(vector)"
   ]
  },
  {
   "cell_type": "code",
   "execution_count": null,
   "metadata": {},
   "outputs": [],
   "source": [
    "vector_row[-1]  # we use this when we need the last element in the array(the first element from the end) in 1D-array(vector)"
   ]
  },
  {
   "cell_type": "code",
   "execution_count": null,
   "metadata": {},
   "outputs": [],
   "source": [
    "#Select all elements of a vector\n",
    "vector_row[:]"
   ]
  },
  {
   "cell_type": "code",
   "execution_count": null,
   "metadata": {},
   "outputs": [],
   "source": [
    "#The result includes the start index but excludes the end index \n",
    "vector_row[:2]"
   ]
  },
  {
   "cell_type": "code",
   "execution_count": null,
   "metadata": {},
   "outputs": [],
   "source": [
    "#Select the everything after the 3rd element\n",
    "vector_row[3:]"
   ]
  },
  {
   "cell_type": "code",
   "execution_count": null,
   "metadata": {},
   "outputs": [],
   "source": [
    "vector_row[:-8]"
   ]
  },
  {
   "cell_type": "code",
   "execution_count": null,
   "metadata": {},
   "outputs": [],
   "source": [
    "a=np.arange(0,10,1)\n",
    "a"
   ]
  },
  {
   "cell_type": "code",
   "execution_count": null,
   "metadata": {},
   "outputs": [],
   "source": [
    "# accessing by condition\n",
    "a[a>2]"
   ]
  },
  {
   "cell_type": "markdown",
   "metadata": {},
   "source": [
    "###### Q: Replace the negative values with 0 in random array that has value in range (-6,6)"
   ]
  },
  {
   "cell_type": "markdown",
   "metadata": {},
   "source": [
    "- Matrix (2-d array)\n",
    "\n",
    "<img src='indexing-and-slicing-of-arrays.png'>"
   ]
  },
  {
   "cell_type": "code",
   "execution_count": null,
   "metadata": {},
   "outputs": [],
   "source": [
    "#Select 2nd row 2nd column\n",
    "matrix=np.array([[1,2,3],[6,7,8]])\n",
    "matrix"
   ]
  },
  {
   "cell_type": "code",
   "execution_count": null,
   "metadata": {},
   "outputs": [],
   "source": [
    "#Select all elements of the matrix\n",
    "matrix[0]"
   ]
  },
  {
   "cell_type": "code",
   "execution_count": null,
   "metadata": {},
   "outputs": [],
   "source": [
    "#Select the first 2 rows and all the columns of the matrix\n",
    "matrix[:2,:]"
   ]
  },
  {
   "cell_type": "code",
   "execution_count": null,
   "metadata": {},
   "outputs": [],
   "source": [
    "#Select all rows and the 2nd column of the matrix\n",
    "matrix[:,1:2]"
   ]
  },
  {
   "cell_type": "markdown",
   "metadata": {},
   "source": [
    "### Dealing with 1-D arrays (vector) & 2-D arrays (matrix)\n",
    "\n",
    "###### 1.Describing a Matrix"
   ]
  },
  {
   "cell_type": "code",
   "execution_count": null,
   "metadata": {},
   "outputs": [],
   "source": [
    "#Create a Matrix\n",
    "matrix = np.array([[1,2,3],[4,5,6],[7,8,9]])\n",
    "# View the Number of Rows and Columns\n",
    "matrix.shape\n"
   ]
  },
  {
   "cell_type": "code",
   "execution_count": null,
   "metadata": {},
   "outputs": [],
   "source": [
    "# #View the number of elements (rows*columns)\n",
    "matrix.size #np.product(matrix.shape)\n"
   ]
  },
  {
   "cell_type": "code",
   "execution_count": null,
   "metadata": {},
   "outputs": [],
   "source": [
    "# #View the number of Dimensions(2 in this case)\n",
    "matrix.ndim"
   ]
  },
  {
   "cell_type": "markdown",
   "metadata": {},
   "source": [
    "###### 2.Adding, Subtracting and Multiplying Matrices"
   ]
  },
  {
   "cell_type": "code",
   "execution_count": null,
   "metadata": {},
   "outputs": [],
   "source": [
    "np.log(10)"
   ]
  },
  {
   "cell_type": "code",
   "execution_count": null,
   "metadata": {},
   "outputs": [],
   "source": [
    "matrix"
   ]
  },
  {
   "cell_type": "code",
   "execution_count": null,
   "metadata": {},
   "outputs": [],
   "source": [
    "#Add number for elements of matrix\n",
    "matrix_2=matrix + np.log(10)\n",
    "matrix_2"
   ]
  },
  {
   "cell_type": "code",
   "execution_count": null,
   "metadata": {},
   "outputs": [],
   "source": [
    "#Add the 2 Matrices\n",
    "np.add(matrix,matrix_2)"
   ]
  },
  {
   "cell_type": "code",
   "execution_count": null,
   "metadata": {},
   "outputs": [],
   "source": [
    "#Multiplication(Element wise, not Dot Product)\n",
    "matrix*matrix_2"
   ]
  },
  {
   "cell_type": "markdown",
   "metadata": {},
   "source": [
    "###### Q : How to compute ((A+B)*(-A/2)) ?  where A,B random array"
   ]
  },
  {
   "cell_type": "markdown",
   "metadata": {},
   "source": [
    "###### Finding the max and min values"
   ]
  },
  {
   "cell_type": "code",
   "execution_count": null,
   "metadata": {},
   "outputs": [],
   "source": [
    "matrix"
   ]
  },
  {
   "cell_type": "code",
   "execution_count": null,
   "metadata": {},
   "outputs": [],
   "source": [
    "#To find the max element in matrix\n",
    "np.max(matrix)"
   ]
  },
  {
   "cell_type": "code",
   "execution_count": null,
   "metadata": {},
   "outputs": [],
   "source": [
    "#To find the max element in each column\n",
    "np.min(matrix,axis=0)"
   ]
  },
  {
   "cell_type": "code",
   "execution_count": null,
   "metadata": {},
   "outputs": [],
   "source": [
    "#To find the max element in each row\n",
    "np.max(matrix,axis=1)"
   ]
  },
  {
   "cell_type": "markdown",
   "metadata": {},
   "source": [
    "#### Q: Scaling a 3x3 random matrix ??? \n",
    "(**hint**: (x - x_min) / x_max-x_min)"
   ]
  },
  {
   "cell_type": "markdown",
   "metadata": {},
   "source": [
    "######  Average, Variance and Standard deviation\n",
    "\n",
    "<img src='WhatsApp Image 2020-10-14 at 12.33.09 AM.png'>"
   ]
  },
  {
   "cell_type": "code",
   "execution_count": null,
   "metadata": {},
   "outputs": [],
   "source": [
    "#Mean\n",
    "np.mean(matrix)"
   ]
  },
  {
   "cell_type": "code",
   "execution_count": null,
   "metadata": {},
   "outputs": [],
   "source": [
    "#Standard Dev.\n",
    "np.std(matrix)"
   ]
  },
  {
   "cell_type": "code",
   "execution_count": null,
   "metadata": {},
   "outputs": [],
   "source": [
    "#Variance\n",
    "np.var(matrix)"
   ]
  },
  {
   "cell_type": "markdown",
   "metadata": {},
   "source": [
    "#### Q: Standerdize a 5x5 random matrix ??? \n",
    "(**hint**: (x - mean) / std)"
   ]
  },
  {
   "cell_type": "markdown",
   "metadata": {},
   "source": [
    "#### concatenate()\n",
    "Joining multiple Array s together "
   ]
  },
  {
   "cell_type": "code",
   "execution_count": null,
   "metadata": {},
   "outputs": [],
   "source": [
    "arr1 = np.array([1, 2, 3])\n",
    "arr2 = np.array([4, 5, 6])\n",
    "\n",
    "arr = np.concatenate((arr1, arr2))\n",
    "arr"
   ]
  },
  {
   "cell_type": "markdown",
   "metadata": {},
   "source": [
    "###### Q: concatenate two arrays horizontally..?"
   ]
  },
  {
   "cell_type": "markdown",
   "metadata": {},
   "source": [
    "#### Sorting Arrays \n",
    "The elements can be arranged in ascending order (if elements are numeric) and can be arranged in Alphabetical Format (if the elements are Strings)"
   ]
  },
  {
   "cell_type": "code",
   "execution_count": null,
   "metadata": {},
   "outputs": [],
   "source": [
    "np.random.seed(1)\n",
    "a=np.random.randint(0,10,9)\n",
    "a"
   ]
  },
  {
   "cell_type": "code",
   "execution_count": null,
   "metadata": {},
   "outputs": [],
   "source": [
    "np.sort(a)"
   ]
  },
  {
   "cell_type": "markdown",
   "metadata": {},
   "source": [
    "#### Q: Create a random vector of size 3x3 and sort values in Its columns"
   ]
  },
  {
   "cell_type": "code",
   "execution_count": null,
   "metadata": {},
   "outputs": [],
   "source": []
  }
 ],
 "metadata": {
  "kernelspec": {
   "display_name": "Python 3",
   "language": "python",
   "name": "python3"
  },
  "language_info": {
   "codemirror_mode": {
    "name": "ipython",
    "version": 3
   },
   "file_extension": ".py",
   "mimetype": "text/x-python",
   "name": "python",
   "nbconvert_exporter": "python",
   "pygments_lexer": "ipython3",
   "version": "3.7.6"
  }
 },
 "nbformat": 4,
 "nbformat_minor": 4
}
